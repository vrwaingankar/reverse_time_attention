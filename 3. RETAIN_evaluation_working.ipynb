{
  "nbformat": 4,
  "nbformat_minor": 0,
  "metadata": {
    "colab": {
      "provenance": []
    },
    "kernelspec": {
      "name": "python3",
      "display_name": "Python 3"
    },
    "language_info": {
      "name": "python"
    }
  },
  "cells": [
    {
      "cell_type": "code",
      "execution_count": null,
      "metadata": {
        "colab": {
          "base_uri": "https://localhost:8080/"
        },
        "id": "RJ5KPV9ZGq7m",
        "outputId": "d1e98959-938c-420c-a3d5-ef653265fb73"
      },
      "outputs": [
        {
          "output_type": "stream",
          "name": "stdout",
          "text": [
            "Drive already mounted at /content/drive; to attempt to forcibly remount, call drive.mount(\"/content/drive\", force_remount=True).\n"
          ]
        }
      ],
      "source": [
        "from google.colab import drive\n",
        "drive.mount('/content/drive')"
      ]
    },
    {
      "cell_type": "code",
      "source": [
        "\"\"\"RETAIN Model Evaluation\"\"\"\n",
        "import os\n",
        "import argparse\n",
        "import numpy as np\n",
        "import pandas as pd\n",
        "from sklearn.metrics import (\n",
        "    roc_auc_score,\n",
        "    average_precision_score,\n",
        "    precision_recall_curve,\n",
        "    roc_curve,\n",
        ")\n",
        "from sklearn.calibration import calibration_curve\n",
        "import matplotlib.pyplot as plt\n",
        "import tensorflow as tf\n",
        "import tensorflow.keras.backend as K\n",
        "from tensorflow.keras.models import load_model\n",
        "from tensorflow.keras.preprocessing import sequence\n",
        "from tensorflow.keras.constraints import Constraint\n",
        "from tensorflow.keras.utils import Sequence"
      ],
      "metadata": {
        "id": "AWFyq4tDJv8E"
      },
      "execution_count": null,
      "outputs": []
    },
    {
      "cell_type": "code",
      "source": [
        "# Define the file paths and other parameters as constants\n",
        "PATH_MODEL = \"/content/drive/MyDrive/MIMIC/output/Model/weights.01.hdf5\"\n",
        "PATH_DATA = \"/content/drive/MyDrive/MIMIC/output/data_test.pkl\"\n",
        "PATH_TARGET = \"/content/drive/MyDrive/MIMIC/output/target_test.pkl\"\n",
        "PATH_GRAPH = \"/content/drive/MyDrive/MIMIC/output/Graphs/\"\n",
        "OMIT_GRAPHS = True  # Set to True or False as needed\n",
        "N_STEPS = 300\n",
        "BATCH_SIZE = 32"
      ],
      "metadata": {
        "id": "-QFs3ZybLRiV"
      },
      "execution_count": null,
      "outputs": []
    },
    {
      "cell_type": "code",
      "source": [
        "def import_model(path):\n",
        "    \"\"\"Import model from training phase\n",
        "\n",
        "    :param str path: path to HDF5 file\n",
        "    :return: Keras model\n",
        "    :rtype: :class:`tensorflow.keras.Model`\n",
        "    \"\"\"\n",
        "\n",
        "    K.clear_session()\n",
        "    config = tf.compat.v1.ConfigProto(\n",
        "        allow_soft_placement=True, log_device_placement=False\n",
        "    )\n",
        "    config.gpu_options.allow_growth = True\n",
        "    tfsess = tf.compat.v1.Session(config=config)\n",
        "    tf.compat.v1.keras.backend.set_session(tfsess)\n",
        "    model = load_model(\n",
        "        path,\n",
        "        custom_objects={\n",
        "            \"FreezePadding\": FreezePadding,\n",
        "            \"FreezePadding_Non_Negative\": FreezePadding_Non_Negative,\n",
        "        },\n",
        "    )\n",
        "\n",
        "    return model"
      ],
      "metadata": {
        "id": "zaXuySUbJxtk"
      },
      "execution_count": null,
      "outputs": []
    },
    {
      "cell_type": "code",
      "source": [
        "def get_model_parameters(model):\n",
        "    \"\"\"Get model parameters of interest\n",
        "\n",
        "    :param model: Keras model\n",
        "    :type model: :class:`tensorflow.keras.Model`\n",
        "    :return: parameters of model\n",
        "    :rtype: :class:`ModelParameters`\n",
        "    \"\"\"\n",
        "\n",
        "    class ModelParameters:\n",
        "        \"\"\"Helper class to store model parameters\"\"\"\n",
        "\n",
        "        def __init__(self):\n",
        "            self.num_codes = None\n",
        "            self.numeric_size = None\n",
        "            self.use_time = None\n",
        "\n",
        "    params = ModelParameters()\n",
        "    names = [layer.name for layer in model.layers]\n",
        "    params.num_codes = model.get_layer(name=\"embedding\").input_dim - 1\n",
        "    if \"numeric_input\" in names:\n",
        "        params.numeric_size = model.get_layer(name=\"numeric_input\").input_shape[2]\n",
        "    else:\n",
        "        params.numeric_size = 0\n",
        "    if \"time_input\" in names:\n",
        "        params.use_time = True\n",
        "    else:\n",
        "        params.use_time = False\n",
        "    return params"
      ],
      "metadata": {
        "id": "dYIThYhgKD3L"
      },
      "execution_count": null,
      "outputs": []
    },
    {
      "cell_type": "code",
      "source": [
        "class FreezePadding_Non_Negative(Constraint):\n",
        "    \"\"\"Freezes the last weight to be near 0 and prevents non-negative embeddings\n",
        "\n",
        "    :param Constraint: Keras sequence constraint\n",
        "    :type Constraint: :class:`tensorflow.keras.constraints.Constraint`\n",
        "    :return: padded tensorflow tensor\n",
        "    :rtype: :class:`tensorflow.Tensor`\n",
        "    \"\"\"\n",
        "\n",
        "    def __call__(self, w):\n",
        "        other_weights = K.cast(K.greater_equal(w, 0)[:-1], K.floatx())\n",
        "        last_weight = K.cast(\n",
        "            K.equal(K.reshape(w[-1, :], (1, K.shape(w)[1])), 0.0), K.floatx()\n",
        "        )\n",
        "        appended = K.concatenate([other_weights, last_weight], axis=0)\n",
        "        w *= appended\n",
        "        return w"
      ],
      "metadata": {
        "id": "Z7ePcDN4KL8D"
      },
      "execution_count": null,
      "outputs": []
    },
    {
      "cell_type": "code",
      "source": [
        "class FreezePadding(Constraint):\n",
        "    \"\"\"Freezes the last weight to be near 0.\n",
        "\n",
        "    :param Constraint: Keras sequence constraint\n",
        "    :type Constraint: :class:`tensorflow.keras.constraints.Constraint`\n",
        "    :return: padded tensorflow tensor\n",
        "    :rtype: :class:`tensorflow.Tensor`\n",
        "    \"\"\"\n",
        "\n",
        "    def __call__(self, w):\n",
        "        other_weights = K.cast(K.ones(K.shape(w))[:-1], K.floatx())\n",
        "        last_weight = K.cast(\n",
        "            K.equal(K.reshape(w[-1, :], (1, K.shape(w)[1])), 0.0), K.floatx()\n",
        "        )\n",
        "        appended = K.concatenate([other_weights, last_weight], axis=0)\n",
        "        w *= appended\n",
        "        return w"
      ],
      "metadata": {
        "id": "OWNGrPO3KPY9"
      },
      "execution_count": null,
      "outputs": []
    },
    {
      "cell_type": "code",
      "source": [
        "def precision_recall(y_true, y_prob, graph):\n",
        "    \"\"\"\n",
        "    Get precision recall statistics\n",
        "\n",
        "    :param y_true: NumPy array of true target values\n",
        "    :type y_true: :class:`numpy.array`\n",
        "    :param y_prob: NumPy array of predicted target values\n",
        "    :type y_prob: :class:`numpy.array`\n",
        "    :param graph: Option to plot + save precision-recall curve\n",
        "    :type graph: bool\n",
        "    \"\"\"\n",
        "\n",
        "    average_precision = average_precision_score(y_true, y_prob)\n",
        "    if graph:\n",
        "        precision, recall, _ = precision_recall_curve(y_true, y_prob)\n",
        "        plt.style.use(\"ggplot\")\n",
        "        plt.clf()\n",
        "        plt.plot(\n",
        "            recall,\n",
        "            precision,\n",
        "            label=\"Precision-Recall Curve  (Area = %0.3f)\" % average_precision,\n",
        "        )\n",
        "        plt.xlabel(\"Recall: P(predicted+|true+)\")\n",
        "        plt.ylabel(\"Precision: P(true+|predicted+)\")\n",
        "        plt.ylim([0.0, 1.05])\n",
        "        plt.xlim([0.0, 1.0])\n",
        "        plt.legend(loc=\"lower left\")\n",
        "        print(\"Precision-Recall Curve saved to pr.png\")\n",
        "\n",
        "        # Create the directory if it doesn't exist\n",
        "        os.makedirs(PATH_GRAPH, exist_ok=True)\n",
        "\n",
        "        plt.savefig(PATH_GRAPH+\"pr.png\")\n",
        "    else:\n",
        "        print(\"Average Precision %0.3f\" % average_precision)"
      ],
      "metadata": {
        "id": "yWH5Ay3zKT8C"
      },
      "execution_count": null,
      "outputs": []
    },
    {
      "cell_type": "code",
      "source": [
        "def probability_calibration(y_true, y_prob, graph):\n",
        "    \"\"\"\n",
        "    Get probability calibration\n",
        "\n",
        "    :param y_true: NumPy array of true target values\n",
        "    :type y_true: :class:`numpy.array`\n",
        "    :param y_prob: NumPy array of predicted target values\n",
        "    :type y_prob: :class:`numpy.array`\n",
        "    :param graph: Option to plot + save probability calibration curves\n",
        "    :type graph: bool\n",
        "    \"\"\"\n",
        "\n",
        "    if graph:\n",
        "        fig_index = 1\n",
        "        name = \"My pred\"\n",
        "        n_bins = 20\n",
        "        fig = plt.figure(fig_index, figsize=(10, 10))\n",
        "        ax1 = plt.subplot2grid((3, 1), (0, 0), rowspan=2)\n",
        "        ax2 = plt.subplot2grid((3, 1), (2, 0))\n",
        "\n",
        "        ax1.plot([0, 1], [0, 1], \"k:\", label=\"Perfectly calibrated\")\n",
        "\n",
        "        fraction_of_positives, mean_predicted_value = calibration_curve(\n",
        "            y_true, y_prob, n_bins=n_bins, normalize=True\n",
        "        )\n",
        "\n",
        "        ax1.plot(mean_predicted_value, fraction_of_positives, label=name)\n",
        "\n",
        "        ax2.hist(y_prob, range=(0, 1), bins=n_bins, label=name, histtype=\"step\", lw=2)\n",
        "\n",
        "        ax1.set_ylabel(\"Fraction of Positives\")\n",
        "        ax1.set_ylim([-0.05, 1.05])\n",
        "        ax1.legend(loc=\"lower right\")\n",
        "        ax1.set_title(\"Calibration Plots  (Reliability Curve)\")\n",
        "\n",
        "        ax2.set_xlabel(\"Mean predicted value\")\n",
        "        ax2.set_ylabel(\"Count\")\n",
        "        ax2.legend(loc=\"upper center\", ncol=2)\n",
        "        print(\"Probability Calibration Curves saved to calibration.png\")\n",
        "        plt.tight_layout()\n",
        "\n",
        "        # Create the directory if it doesn't exist\n",
        "        os.makedirs(PATH_GRAPH, exist_ok=True)\n",
        "\n",
        "        plt.savefig(PATH_GRAPH+\"calibration.png\")"
      ],
      "metadata": {
        "id": "0m9X41NbKZKM"
      },
      "execution_count": null,
      "outputs": []
    },
    {
      "cell_type": "code",
      "source": [
        "def lift(y_true, y_prob, graph):\n",
        "    \"\"\"\n",
        "    Get lift chart\n",
        "\n",
        "    :param y_true: NumPy array of true target values\n",
        "    :type y_true: :class:`numpy.array`\n",
        "    :param y_prob: NumPy array of predicted target values\n",
        "    :type y_prob: :class:`numpy.array`\n",
        "    :param graph: Option to plot + save lift chart\n",
        "    :type graph: bool\n",
        "    \"\"\"\n",
        "\n",
        "    prevalence = sum(y_true) / len(y_true)\n",
        "    average_lift = average_precision_score(y_true, y_prob) / prevalence\n",
        "    if graph:\n",
        "        precision, recall, _ = precision_recall_curve(y_true, y_prob)\n",
        "        lift_values = precision / prevalence\n",
        "        plt.style.use(\"ggplot\")\n",
        "        plt.clf()\n",
        "        plt.plot(\n",
        "            recall,\n",
        "            lift_values,\n",
        "            label=\"Lift-Recall Curve  (Area = %0.3f)\" % average_lift,\n",
        "        )\n",
        "        plt.xlabel(\"Recall: P(predicted+|true+)\")\n",
        "        plt.ylabel(\"Lift\")\n",
        "        plt.xlim([0.0, 1.0])\n",
        "        plt.legend(loc=\"lower left\")\n",
        "        print(\"Lift-Recall Curve saved to lift.png\")\n",
        "\n",
        "        # Create the directory if it doesn't exist\n",
        "        os.makedirs(PATH_GRAPH, exist_ok=True)\n",
        "        plt.savefig(PATH_GRAPH+\"lift\")\n",
        "    else:\n",
        "        print(\"Average Lift %0.3f\" % average_lift)"
      ],
      "metadata": {
        "id": "pWK838hzKeMr"
      },
      "execution_count": null,
      "outputs": []
    },
    {
      "cell_type": "code",
      "source": [
        "def roc(y_true, y_prob, graph):\n",
        "    \"\"\"\n",
        "    Get ROC statistics\n",
        "\n",
        "    :param y_true: NumPy array of true target values\n",
        "    :type y_true: :class:`numpy.array`\n",
        "    :param y_prob: NumPy array of predicted target values\n",
        "    :type y_prob: :class:`numpy.array`\n",
        "    :param graph: Option to plot + save ROC curves\n",
        "    :type graph: bool\n",
        "    \"\"\"\n",
        "\n",
        "    roc_auc = roc_auc_score(y_true, y_prob)\n",
        "    if graph:\n",
        "        fpr, tpr, _ = roc_curve(y_true, y_prob)\n",
        "        plt.plot(\n",
        "            fpr,\n",
        "            tpr,\n",
        "            color=\"darkorange\",\n",
        "            lw=2,\n",
        "            label=\"ROC curve (Area = %0.3f)\" % roc_auc,\n",
        "        )\n",
        "        plt.plot([0, 1], [0, 1], color=\"navy\", lw=2, linestyle=\"--\")\n",
        "        plt.xlim([0.0, 1.0])\n",
        "        plt.ylim([0.0, 1.05])\n",
        "        plt.xlabel(\"False Positive Rate (1 - Specifity)\")\n",
        "        plt.ylabel(\"True Positive Rate (Sensitivity)\")\n",
        "        plt.title(\"Receiver Operating Characteristic\")\n",
        "        plt.legend(loc=\"lower right\")\n",
        "        print(\"ROC Curve saved to roc.png\")\n",
        "\n",
        "        # Create the directory if it doesn't exist\n",
        "        os.makedirs(PATH_GRAPH, exist_ok=True)\n",
        "\n",
        "        plt.savefig(PATH_GRAPH+\"roc.png\")\n",
        "    else:\n",
        "        print(\"ROC-AUC %0.3f\" % roc_auc)"
      ],
      "metadata": {
        "id": "IK6oRs4HKiKN"
      },
      "execution_count": null,
      "outputs": []
    },
    {
      "cell_type": "code",
      "source": [
        "class SequenceBuilder(Sequence):\n",
        "    \"\"\"Class to properly construct data to sequences\n",
        "\n",
        "    :param Sequence: Customized Sequence class for generating batches of data\n",
        "    :type Sequence: :class:`tensorflow.keras.utils.data_utils.Sequence`\n",
        "    \"\"\"\n",
        "\n",
        "    def __init__(self, data, model_parameters):\n",
        "        # Receive all appropriate data\n",
        "        self.codes = data[0]\n",
        "        index = 1\n",
        "        if model_parameters.numeric_size:\n",
        "            self.numeric = data[index]\n",
        "            index += 1\n",
        "\n",
        "        if model_parameters.use_time:\n",
        "            self.time = data[index]\n",
        "\n",
        "        self.num_codes = model_parameters.num_codes\n",
        "        self.batch_size = BATCH_SIZE\n",
        "        self.numeric_size = model_parameters.numeric_size\n",
        "        self.use_time = model_parameters.use_time\n",
        "        self.n_steps = N_STEPS\n",
        "\n",
        "    def __len__(self):\n",
        "        \"\"\"Compute number of batches.\n",
        "        Add extra batch if the data doesn't exactly divide into batches\n",
        "        \"\"\"\n",
        "        if len(self.codes) % self.batch_size == 0:\n",
        "            return len(self.codes) // self.batch_size\n",
        "        return len(self.codes) // self.batch_size + 1\n",
        "\n",
        "    def __getitem__(self, idx):\n",
        "        \"\"\"Get batch of specific index\"\"\"\n",
        "\n",
        "        def pad_data(data, length_visits, length_codes, pad_value=0):\n",
        "            \"\"\"Pad data to desired number of visits and codes inside each visit\"\"\"\n",
        "            zeros = np.full((len(data), length_visits, length_codes), pad_value)\n",
        "            for steps, mat in zip(data, zeros):\n",
        "                if steps != [[-1]]:\n",
        "                    for step, mhot in zip(steps, mat[-len(steps) :]):\n",
        "                        # Populate the data into the appropriate visit\n",
        "                        mhot[: len(step)] = step\n",
        "\n",
        "            return zeros\n",
        "\n",
        "        # Compute reusable batch slice\n",
        "        batch_slice = slice(idx * self.batch_size, (idx + 1) * self.batch_size)\n",
        "        x_codes = self.codes[batch_slice]\n",
        "        # Max number of visits and codes inside the visit for this batch\n",
        "        pad_length_visits = min(max(map(len, x_codes)), self.n_steps)\n",
        "        pad_length_codes = max(map(lambda x: max(map(len, x)), x_codes))\n",
        "        # Number of elements in a batch (useful in case of partial batches)\n",
        "        length_batch = len(x_codes)\n",
        "        # Pad data\n",
        "        x_codes = pad_data(x_codes, pad_length_visits, pad_length_codes, self.num_codes)\n",
        "        outputs = [x_codes]\n",
        "        # Add numeric data if necessary\n",
        "        if self.numeric_size:\n",
        "            x_numeric = self.numeric[batch_slice]\n",
        "            x_numeric = pad_data(x_numeric, pad_length_visits, self.numeric_size, -99.0)\n",
        "            outputs.append(x_numeric)\n",
        "        # Add time data if necessary\n",
        "        if self.use_time:\n",
        "            x_time = sequence.pad_sequences(\n",
        "                self.time[batch_slice],\n",
        "                dtype=np.float32,\n",
        "                maxlen=pad_length_visits,\n",
        "                value=+99,\n",
        "            ).reshape(length_batch, pad_length_visits, 1)\n",
        "            outputs.append(x_time)\n",
        "\n",
        "        return outputs"
      ],
      "metadata": {
        "id": "1xBDhjqVKnM5"
      },
      "execution_count": null,
      "outputs": []
    },
    {
      "cell_type": "code",
      "source": [
        "def read_data(model_parameters):\n",
        "    \"\"\"Read test data used for scoring\n",
        "\n",
        "    :param model_parameters: parameters of model\n",
        "    :type model_parameters: str\n",
        "    :return: tuple for data and classifier arrays\n",
        "    :rtype: tuple( list[class:`numpy.ndarray`] , :class:`numpy.ndarray`)\n",
        "    \"\"\"\n",
        "\n",
        "    data = pd.read_pickle(PATH_DATA)\n",
        "    y = pd.read_pickle(PATH_TARGET)[\"target\"].values\n",
        "    data_output = [data[\"codes\"].values]\n",
        "\n",
        "    if model_parameters.numeric_size:\n",
        "        data_output.append(data[\"numerics\"].values)\n",
        "    if model_parameters.use_time:\n",
        "        data_output.append(data[\"to_event\"].values)\n",
        "    return (data_output, y)"
      ],
      "metadata": {
        "id": "JikuU3eiKxmc"
      },
      "execution_count": null,
      "outputs": []
    },
    {
      "cell_type": "code",
      "source": [
        "def get_predictions(model, data, model_parameters):\n",
        "    \"\"\"Get Model Predictions\n",
        "\n",
        "    :param model: trained Keras model\n",
        "    :type model: :class:`tensorflow.keras.Model`\n",
        "    :param data: array(s) for features (e.g. ['to_event_ordered','code_ordered','numeric_ordered'])\n",
        "    :type data: list[class:`numpy.ndarray`]\n",
        "    :param str model_parameters: parameters of model\n",
        "    :return: 1-d array of scores for being in positive class\n",
        "    :rtype: :class:`numpy.ndarray`\n",
        "    \"\"\"\n",
        "\n",
        "    test_generator = SequenceBuilder(data, model_parameters)\n",
        "    preds = model.predict_generator(\n",
        "        generator=test_generator,\n",
        "        max_queue_size=15,\n",
        "        use_multiprocessing=True,\n",
        "        verbose=1,\n",
        "        workers=3,\n",
        "    )\n",
        "    return preds"
      ],
      "metadata": {
        "id": "PCgEQ01QK0Ug"
      },
      "execution_count": null,
      "outputs": []
    },
    {
      "cell_type": "code",
      "source": [
        "def main():\n",
        "    \"\"\"Main Body of the code\"\"\"\n",
        "    print(\"Loading Model and Extracting Parameters\")\n",
        "    model = import_model(PATH_MODEL)\n",
        "    model_parameters = get_model_parameters(model)\n",
        "    print(\"Reading Data\")\n",
        "    data, y = read_data(model_parameters)\n",
        "    print(\"Predicting the probabilities\")\n",
        "    probabilities = get_predictions(model, data, model_parameters)\n",
        "    print(\"Evaluating\")\n",
        "    roc(y, probabilities[:, 0, -1], OMIT_GRAPHS)\n",
        "    precision_recall(y, probabilities[:, 0, -1], OMIT_GRAPHS)\n",
        "    lift(y, probabilities[:, 0, -1], OMIT_GRAPHS)\n",
        "    probability_calibration(y, probabilities[:, 0, -1], OMIT_GRAPHS)"
      ],
      "metadata": {
        "id": "nPKxeRHVK7Ff"
      },
      "execution_count": null,
      "outputs": []
    },
    {
      "cell_type": "code",
      "source": [
        "main()"
      ],
      "metadata": {
        "colab": {
          "base_uri": "https://localhost:8080/",
          "height": 767
        },
        "id": "Rk7-DBDsLA1Y",
        "outputId": "d895e637-5797-40dd-bff3-ad0d1dfe19ba"
      },
      "execution_count": null,
      "outputs": [
        {
          "output_type": "stream",
          "name": "stdout",
          "text": [
            "Loading Model and Extracting Parameters\n",
            "Reading Data\n",
            "Predicting the probabilities\n"
          ]
        },
        {
          "output_type": "stream",
          "name": "stderr",
          "text": [
            "<ipython-input-92-e0641e3deca7>:14: UserWarning: `Model.predict_generator` is deprecated and will be removed in a future version. Please use `Model.predict`, which supports generators.\n",
            "  preds = model.predict_generator(\n"
          ]
        },
        {
          "output_type": "stream",
          "name": "stdout",
          "text": [
            "48/48 [==============================] - 4s 32ms/step\n",
            "Evaluating\n",
            "ROC Curve saved to roc.png\n",
            "Precision-Recall Curve saved to pr.png\n",
            "Lift-Recall Curve saved to lift.png\n"
          ]
        },
        {
          "output_type": "stream",
          "name": "stderr",
          "text": [
            "<ipython-input-87-3df6251b7e0f>:18: MatplotlibDeprecationWarning: Auto-removal of overlapping axes is deprecated since 3.6 and will be removed two minor releases later; explicitly call ax.remove() as needed.\n",
            "  ax1 = plt.subplot2grid((3, 1), (0, 0), rowspan=2)\n",
            "/usr/local/lib/python3.10/dist-packages/sklearn/calibration.py:1000: FutureWarning: The normalize argument is deprecated in v1.1 and will be removed in v1.3. Explicitly normalizing y_prob will reproduce this behavior, but it is recommended that a proper probability is used (i.e. a classifier's `predict_proba` positive class or `decision_function` output calibrated with `CalibratedClassifierCV`).\n",
            "  warnings.warn(\n"
          ]
        },
        {
          "output_type": "stream",
          "name": "stdout",
          "text": [
            "Probability Calibration Curves saved to calibration.png\n"
          ]
        },
        {
          "output_type": "display_data",
          "data": {
            "text/plain": [
              "<Figure size 640x480 with 2 Axes>"
            ],
            "image/png": "[encoded data removed]"
          },
          "metadata": {}
        }
      ]
    }
  ]
}