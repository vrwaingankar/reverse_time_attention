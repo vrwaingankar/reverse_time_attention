{
  "nbformat": 4,
  "nbformat_minor": 0,
  "metadata": {
    "colab": {
      "provenance": []
    },
    "kernelspec": {
      "name": "python3",
      "display_name": "Python 3"
    },
    "language_info": {
      "name": "python"
    }
  },
  "cells": [
    {
      "cell_type": "code",
      "execution_count": null,
      "metadata": {
        "colab": {
          "base_uri": "https://localhost:8080/"
        },
        "id": "HsIUPP8BCnlH",
        "outputId": "8298847f-0dcf-4c18-c10f-3de3ac2d2dd9"
      },
      "outputs": [
        {
          "output_type": "stream",
          "name": "stdout",
          "text": [
            "Mounted at /content/drive\n"
          ]
        }
      ],
      "source": [
        "from google.colab import drive\n",
        "drive.mount('/content/drive')"
      ]
    },
    {
      "cell_type": "code",
      "source": [
        "import os\n",
        "import pickle\n",
        "import regex as re\n",
        "import numpy as np\n",
        "import pandas as pd\n",
        "from datetime import datetime\n",
        "from sklearn.model_selection import train_test_split"
      ],
      "metadata": {
        "id": "97XpJ7hPCtNP"
      },
      "execution_count": null,
      "outputs": []
    },
    {
      "cell_type": "code",
      "source": [
        "def convert_to_icd9(dx_str):\n",
        "    \"\"\"\n",
        "    Maps an ICD diagnosis code to ICD9\n",
        "    \"\"\"\n",
        "\n",
        "    if dx_str.startswith(\"E\"):\n",
        "        if len(dx_str) > 4:\n",
        "            return dx_str[:4] + \".\" + dx_str[4:]\n",
        "        else:\n",
        "            return dx_str\n",
        "    else:\n",
        "        if len(dx_str) > 3:\n",
        "            return dx_str[:3] + \".\" + dx_str[3:]\n",
        "        else:\n",
        "            return dx_str"
      ],
      "metadata": {
        "id": "u476fRgwCvRV"
      },
      "execution_count": null,
      "outputs": []
    },
    {
      "cell_type": "code",
      "source": [
        "def convert_to_3digit_icd9(dx_str):\n",
        "    \"\"\"\n",
        "    Roll up a diagnosis code to 3 digits\n",
        "    \"\"\"\n",
        "\n",
        "    if dx_str.startswith(\"E\"):\n",
        "        if len(dx_str) > 4:\n",
        "            return dx_str[:4]\n",
        "        else:\n",
        "            return dx_str\n",
        "    else:\n",
        "        if len(dx_str) > 3:\n",
        "            return dx_str[:3]\n",
        "        else:\n",
        "            return dx_str"
      ],
      "metadata": {
        "id": "xjcs8PX4Cv_Q"
      },
      "execution_count": null,
      "outputs": []
    },
    {
      "cell_type": "code",
      "source": [
        "# Define the paths to your CSV files in the \"MIMIC\" folder in your Colab environment\n",
        "admission_file = \"/content/drive/MyDrive/MIMIC/ADMISSIONS.csv\"\n",
        "diagnosis_file = \"/content/drive/MyDrive/MIMIC/DIAGNOSES_ICD.csv\"\n",
        "patients_file = \"/content/drive/MyDrive/MIMIC/PATIENTS.csv\"\n",
        "out_directory = \"/content/drive/MyDrive/MIMIC/output\"\n",
        "train_proportion = 0.8  # Modify the train proportion as needed"
      ],
      "metadata": {
        "id": "7osO2MjDC39g"
      },
      "execution_count": null,
      "outputs": []
    },
    {
      "cell_type": "code",
      "source": [
        "# Read mortality data\n",
        "print(\"Collecting mortality information...\")\n",
        "pid_dod_map = {}\n",
        "infd = open(patients_file, \"r\")\n",
        "infd.readline()\n",
        "for line in infd:\n",
        "    tokens = line.strip().split(\",\")\n",
        "    pid = int(tokens[1])\n",
        "    dod_hosp = tokens[5]\n",
        "    if len(dod_hosp) > 0:\n",
        "        pid_dod_map[pid] = 1\n",
        "    else:\n",
        "        pid_dod_map[pid] = 0\n",
        "infd.close()"
      ],
      "metadata": {
        "colab": {
          "base_uri": "https://localhost:8080/"
        },
        "id": "JRKUYhEXDV-J",
        "outputId": "bd8a0366-ea1a-4c93-d9e0-47899c400496"
      },
      "execution_count": null,
      "outputs": [
        {
          "output_type": "stream",
          "name": "stdout",
          "text": [
            "Collecting mortality information...\n"
          ]
        }
      ]
    },
    {
      "cell_type": "code",
      "source": [
        "# Read and create admission records\n",
        "print(\"Building pid-admission mapping, admission-date mapping...\")\n",
        "pid_adm_map = {}\n",
        "adm_date_map = {}\n",
        "infd = open(admission_file, \"r\")\n",
        "infd.readline()\n",
        "for line in infd:\n",
        "    tokens = line.strip().split(\",\")\n",
        "    pid = int(tokens[1])\n",
        "    adm_id = int(tokens[2])\n",
        "    adm_time = datetime.strptime(tokens[3], \"%Y-%m-%d %H:%M:%S\")\n",
        "    adm_date_map[adm_id] = adm_time\n",
        "    if pid in pid_adm_map:\n",
        "        pid_adm_map[pid].append(adm_id)\n",
        "    else:\n",
        "        pid_adm_map[pid] = [adm_id]\n",
        "infd.close()"
      ],
      "metadata": {
        "colab": {
          "base_uri": "https://localhost:8080/"
        },
        "id": "lzu1_PUADeb5",
        "outputId": "3cb76204-cce9-4d60-8442-2fb758b457a9"
      },
      "execution_count": null,
      "outputs": [
        {
          "output_type": "stream",
          "name": "stdout",
          "text": [
            "Building pid-admission mapping, admission-date mapping...\n"
          ]
        }
      ]
    },
    {
      "cell_type": "code",
      "source": [
        "# Create admission dx code mapping\n",
        "print(\"Building admission-dxList mapping...\")\n",
        "adm_dx_map = {}\n",
        "adm_dx_map_3digit = {}\n",
        "infd = open(diagnosis_file, \"r\")\n",
        "infd.readline()\n",
        "for line in infd:\n",
        "    tokens = re.sub('\"|\\s|\\n','',line).split(',')\n",
        "    adm_id = int(tokens[2])\n",
        "    dx_str = \"D_\" + convert_to_icd9(tokens[4][1:-1])\n",
        "    dx_str_3digit = \"D_\" + convert_to_3digit_icd9(tokens[4][1:-1])\n",
        "    if adm_id in adm_dx_map:\n",
        "        adm_dx_map[adm_id].append(dx_str)\n",
        "    else:\n",
        "        adm_dx_map[adm_id] = [dx_str]\n",
        "    if adm_id in adm_dx_map_3digit:\n",
        "        adm_dx_map_3digit[adm_id].append(dx_str_3digit)\n",
        "    else:\n",
        "        adm_dx_map_3digit[adm_id] = [dx_str_3digit]\n",
        "infd.close()"
      ],
      "metadata": {
        "colab": {
          "base_uri": "https://localhost:8080/"
        },
        "id": "49i66uc5DmHl",
        "outputId": "c3a39d3a-9014-4afa-f9db-926e74c49247"
      },
      "execution_count": null,
      "outputs": [
        {
          "output_type": "stream",
          "name": "stdout",
          "text": [
            "Building admission-dxList mapping...\n"
          ]
        }
      ]
    },
    {
      "cell_type": "code",
      "source": [
        "# Create ordered visit mapping\n",
        "print(\"Building pid-sortedVisits mapping...\")\n",
        "pid_seq_map = {}\n",
        "pid_seq_map_3digit = {}\n",
        "for pid, adm_id_list in pid_adm_map.items():\n",
        "    if len(adm_id_list) < 2:\n",
        "        continue\n",
        "    sorted_list = sorted(\n",
        "        [(adm_date_map[adm_id], adm_dx_map[adm_id]) for adm_id in adm_id_list]\n",
        "    )\n",
        "    pid_seq_map[pid] = sorted_list\n",
        "    sorted_list_3digit = sorted(\n",
        "        [\n",
        "            (adm_date_map[adm_id], adm_dx_map_3digit[adm_id])\n",
        "            for adm_id in adm_id_list\n",
        "        ]\n",
        "    )\n",
        "    pid_seq_map_3digit[pid] = sorted_list_3digit"
      ],
      "metadata": {
        "colab": {
          "base_uri": "https://localhost:8080/"
        },
        "id": "1v_n-hV7Dvez",
        "outputId": "40e41ea5-5825-44bf-9937-94f779ce035a"
      },
      "execution_count": null,
      "outputs": [
        {
          "output_type": "stream",
          "name": "stdout",
          "text": [
            "Building pid-sortedVisits mapping...\n"
          ]
        }
      ]
    },
    {
      "cell_type": "code",
      "source": [
        "print(\"Building pids, dates, mortality_labels, strSeqs...\")\n",
        "pids = []\n",
        "dates = []\n",
        "seqs = []\n",
        "morts = []\n",
        "for pid, visits in pid_seq_map.items():\n",
        "    pids.append(pid)\n",
        "    morts.append(pid_dod_map[pid])\n",
        "    seq = []\n",
        "    date = []\n",
        "    for visit in visits:\n",
        "        date.append(visit[0])\n",
        "        seq.append(visit[1])\n",
        "    dates.append(date)\n",
        "    seqs.append(seq)"
      ],
      "metadata": {
        "colab": {
          "base_uri": "https://localhost:8080/"
        },
        "id": "LgzRa1bvD6A4",
        "outputId": "cdf56504-4fcd-4c71-bacd-6050d5645c4f"
      },
      "execution_count": null,
      "outputs": [
        {
          "output_type": "stream",
          "name": "stdout",
          "text": [
            "Building pids, dates, mortality_labels, strSeqs...\n"
          ]
        }
      ]
    },
    {
      "cell_type": "code",
      "source": [
        "# Create 3 digit ICD sequences\n",
        "print(\"Building pids, dates, strSeqs for 3digit ICD9 code...\")\n",
        "seqs_3digit = []\n",
        "for pid, visits in pid_seq_map_3digit.items():\n",
        "    seq = []\n",
        "    for visit in visits:\n",
        "        seq.append(visit[1])\n",
        "    seqs_3digit.append(seq)"
      ],
      "metadata": {
        "colab": {
          "base_uri": "https://localhost:8080/"
        },
        "id": "WFlYjxm6D8Vf",
        "outputId": "47986d8a-8684-4d45-eb6a-8f4bb1648ed6"
      },
      "execution_count": null,
      "outputs": [
        {
          "output_type": "stream",
          "name": "stdout",
          "text": [
            "Building pids, dates, strSeqs for 3digit ICD9 code...\n"
          ]
        }
      ]
    },
    {
      "cell_type": "code",
      "source": [
        "# Collect code types\n",
        "print(\"Converting strSeqs to intSeqs, and making types...\")\n",
        "types = {}\n",
        "new_seqs = []\n",
        "for patient in seqs:\n",
        "    new_patient = []\n",
        "    for visit in patient:\n",
        "        new_visit = []\n",
        "        for code in visit:\n",
        "            if code in types:\n",
        "                new_visit.append(types[code])\n",
        "            else:\n",
        "                types[code] = len(types)\n",
        "                new_visit.append(types[code])\n",
        "        new_patient.append(new_visit)\n",
        "    new_seqs.append(new_patient)"
      ],
      "metadata": {
        "colab": {
          "base_uri": "https://localhost:8080/"
        },
        "id": "cJeUgjT0EBYZ",
        "outputId": "45db9c42-bd71-4255-fcfd-475bde68e636"
      },
      "execution_count": null,
      "outputs": [
        {
          "output_type": "stream",
          "name": "stdout",
          "text": [
            "Converting strSeqs to intSeqs, and making types...\n"
          ]
        }
      ]
    },
    {
      "cell_type": "code",
      "source": [
        "# Map code strings to integers\n",
        "print(\"Converting strSeqs to intSeqs, and making types for 3digit ICD9 code...\")\n",
        "types_3digit = {}\n",
        "new_seqs_3digit = []\n",
        "for patient in seqs_3digit:\n",
        "    new_patient = []\n",
        "    for visit in patient:\n",
        "        new_visit = []\n",
        "        for code in set(visit):\n",
        "            if code in types_3digit:\n",
        "                new_visit.append(types_3digit[code])\n",
        "            else:\n",
        "                types_3digit[code] = len(types_3digit)\n",
        "                new_visit.append(types_3digit[code])\n",
        "        new_patient.append(new_visit)\n",
        "    new_seqs_3digit.append(new_patient)"
      ],
      "metadata": {
        "colab": {
          "base_uri": "https://localhost:8080/"
        },
        "id": "45clg0hiEG-8",
        "outputId": "f3b84878-a770-4e3c-98f0-5f95d44f1a68"
      },
      "execution_count": null,
      "outputs": [
        {
          "output_type": "stream",
          "name": "stdout",
          "text": [
            "Converting strSeqs to intSeqs, and making types for 3digit ICD9 code...\n"
          ]
        }
      ]
    },
    {
      "cell_type": "code",
      "source": [
        "# Compute time to today as to_event column\n",
        "print(\"Making additional modifications to the data...\")\n",
        "today = datetime.strptime(\"2025-01-01\", \"%Y-%m-%d\")\n",
        "to_event = [[(today - date).days for date in patient] for patient in dates]"
      ],
      "metadata": {
        "colab": {
          "base_uri": "https://localhost:8080/"
        },
        "id": "FN2X4sYaEMNf",
        "outputId": "55ce6b75-040c-4968-9c46-2f1078095039"
      },
      "execution_count": null,
      "outputs": [
        {
          "output_type": "stream",
          "name": "stdout",
          "text": [
            "Making additional modifications to the data...\n"
          ]
        }
      ]
    },
    {
      "cell_type": "code",
      "source": [
        "# Compute time of the day when the person was admitted as the numeric column of size 1\n",
        "numerics = [\n",
        "    [[date.hour * 60 + date.minute - 720] for date in patient] for patient in dates\n",
        "]"
      ],
      "metadata": {
        "id": "yf8y86REESzy"
      },
      "execution_count": null,
      "outputs": []
    },
    {
      "cell_type": "code",
      "source": [
        "# Add this feature to dictionary but leave 1 index empty for PADDING\n",
        "types[\"Time of visit\"] = len(types) + 1\n",
        "types_3digit[\"Time of visit\"] = len(types_3digit) + 1"
      ],
      "metadata": {
        "id": "NIvKPNjfEWz3"
      },
      "execution_count": null,
      "outputs": []
    },
    {
      "cell_type": "code",
      "source": [
        "# Compute sorting indicies\n",
        "sort_indicies = np.argsort(list(map(len, to_event)))"
      ],
      "metadata": {
        "id": "G-ocT3AmEbkU"
      },
      "execution_count": null,
      "outputs": []
    },
    {
      "cell_type": "code",
      "source": [
        "# Create the dataframes of data and sort them according to number of visits per patient\n",
        "print(\"Building sorted dataframes...\")\n",
        "all_data = (\n",
        "    pd.DataFrame(\n",
        "        data={\"codes\": new_seqs, \"to_event\": to_event, \"numerics\": numerics},\n",
        "        columns=[\"codes\", \"to_event\", \"numerics\"],\n",
        "    )\n",
        "    .iloc[sort_indicies]\n",
        "    .reset_index()\n",
        ")\n",
        "all_data_3digit = (\n",
        "    pd.DataFrame(\n",
        "        data={\"codes\": new_seqs_3digit, \"to_event\": to_event, \"numerics\": numerics},\n",
        "        columns=[\"codes\", \"to_event\", \"numerics\"],\n",
        "    )\n",
        "    .iloc[sort_indicies]\n",
        "    .reset_index()\n",
        ")\n",
        "all_targets = (\n",
        "    pd.DataFrame(data={\"target\": morts}, columns=[\"target\"])\n",
        "    .iloc[sort_indicies]\n",
        "    .reset_index()\n",
        ")"
      ],
      "metadata": {
        "colab": {
          "base_uri": "https://localhost:8080/"
        },
        "id": "nuvDs0alEgRo",
        "outputId": "4c9cebd3-f2cd-467e-a67f-30027cd3d138"
      },
      "execution_count": null,
      "outputs": [
        {
          "output_type": "stream",
          "name": "stdout",
          "text": [
            "Building sorted dataframes...\n"
          ]
        }
      ]
    },
    {
      "cell_type": "code",
      "source": [
        "# Create train test split\n",
        "print(\"Creating train/test splits...\")\n",
        "data_train, data_test = train_test_split(\n",
        "    all_data, train_size=train_proportion, random_state=12345\n",
        ")\n",
        "data_train_3digit, data_test_3digit = train_test_split(\n",
        "    all_data_3digit, train_size=train_proportion, random_state=12345\n",
        ")\n",
        "target_train, target_test = train_test_split(\n",
        "    all_targets, train_size=train_proportion, random_state=12345\n",
        ")"
      ],
      "metadata": {
        "colab": {
          "base_uri": "https://localhost:8080/"
        },
        "id": "5j8KW5NQEk_t",
        "outputId": "2e8cb1ad-0a6a-4f9e-be93-5028c4864e62"
      },
      "execution_count": null,
      "outputs": [
        {
          "output_type": "stream",
          "name": "stdout",
          "text": [
            "Creating train/test splits...\n"
          ]
        }
      ]
    },
    {
      "cell_type": "code",
      "source": [
        "# Create reverse dictionary in index:code format\n",
        "types = dict((v, k) for k, v in types.items())\n",
        "types_3digit = dict((v, k) for k, v in types_3digit.items())"
      ],
      "metadata": {
        "id": "YqZnjuroEpoM"
      },
      "execution_count": null,
      "outputs": []
    },
    {
      "cell_type": "code",
      "source": [
        "# Write out the data\n",
        "print(\"Saving data...\")\n",
        "if not os.path.exists(out_directory):\n",
        "    os.makedirs(out_directory)\n",
        "data_train.sort_index().to_pickle(out_directory + \"/data_train.pkl\")\n",
        "data_test.sort_index().to_pickle(out_directory + \"/data_test.pkl\")\n",
        "data_train_3digit.sort_index().to_pickle(out_directory + \"/data_train_3digit.pkl\")\n",
        "data_test_3digit.sort_index().to_pickle(out_directory + \"/data_test_3digit.pkl\")\n",
        "target_train.sort_index().to_pickle(out_directory + \"/target_train.pkl\")\n",
        "target_test.sort_index().to_pickle(out_directory + \"/target_test.pkl\")\n",
        "pickle.dump(types, open(out_directory + \"/dictionary.pkl\", \"wb\"), -1)\n",
        "pickle.dump(types_3digit, open(out_directory + \"/dictionary_3digit.pkl\", \"wb\"), -1)"
      ],
      "metadata": {
        "colab": {
          "base_uri": "https://localhost:8080/"
        },
        "id": "jMxTYl3DEtyh",
        "outputId": "7d2cb36c-ac3e-43c6-9cd2-ab57a3758c59"
      },
      "execution_count": null,
      "outputs": [
        {
          "output_type": "stream",
          "name": "stdout",
          "text": [
            "Saving data...\n"
          ]
        }
      ]
    }
  ]
}